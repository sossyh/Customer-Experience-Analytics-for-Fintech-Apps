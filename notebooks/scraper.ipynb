{
 "cells": [
  {
   "cell_type": "code",
   "execution_count": 2,
   "id": "09638ba1",
   "metadata": {},
   "outputs": [
    {
     "name": "stdout",
     "output_type": "stream",
     "text": [
      "🔄 Fetching reviews for com.combanketh.mobilebanking...\n",
      "🔄 Fetching reviews for com.dashen.dashensuperapp...\n",
      "🔄 Fetching reviews for com.boa.boaMobileBanking...\n",
      "✅ Saved 1200 reviews to ../data/all_banks_reviews.csv\n"
     ]
    }
   ],
   "source": [
    "import sys\n",
    "sys.path.append('../src')  # to import from the src folder\n",
    "\n",
    "import scraper\n",
    "\n",
    "# Define the apps\n",
    "apps = [\n",
    "    'com.combanketh.mobilebanking',     # Commercial Bank of Ethiopia\n",
    "    'com.dashen.dashensuperapp',        # Dashen Bank\n",
    "    'com.boa.boaMobileBanking'          # Bank of Abyssinia\n",
    "]\n",
    "\n",
    "all_reviews = []\n",
    "\n",
    "# Collect 400 reviews for each app\n",
    "for app_id in apps:\n",
    "    print(f\"🔄 Fetching reviews for {app_id}...\")\n",
    "    reviews_data = scraper.fetch_reviews_for_app(app_id, max_count=400)\n",
    "    all_reviews.extend(reviews_data)\n",
    "\n",
    "# Save to data folder\n",
    "scraper.save_reviews_to_csv(all_reviews, filename='../data/all_banks_reviews.csv')\n"
   ]
  },
  {
   "cell_type": "code",
   "execution_count": null,
   "id": "a57d8e9d",
   "metadata": {},
   "outputs": [],
   "source": []
  }
 ],
 "metadata": {
  "kernelspec": {
   "display_name": "venv",
   "language": "python",
   "name": "python3"
  },
  "language_info": {
   "codemirror_mode": {
    "name": "ipython",
    "version": 3
   },
   "file_extension": ".py",
   "mimetype": "text/x-python",
   "name": "python",
   "nbconvert_exporter": "python",
   "pygments_lexer": "ipython3",
   "version": "3.12.7"
  }
 },
 "nbformat": 4,
 "nbformat_minor": 5
}
